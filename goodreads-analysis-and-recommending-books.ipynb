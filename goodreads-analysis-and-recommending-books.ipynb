{
 "cells": [
  {
   "cell_type": "markdown",
   "metadata": {},
   "source": [
    "![](https://hips.hearstapps.com/hmg-prod.s3.amazonaws.com/images/j-k-rowling-book-quote-1531932701.jpg?crop=1xw:1xh;center,top&resize=500:*)"
   ]
  },
  {
   "cell_type": "markdown",
   "metadata": {},
   "source": [
    "# Background checkup."
   ]
  },
  {
   "cell_type": "markdown",
   "metadata": {},
   "source": [
    "The basic idea behind analysing the Goodreads dataset is to get a fair idea about the relationships between the multiple attributes a book might have, such as:the aggregrate rating of each book, the trend of the authors over the years and books with numerous languages. With over a hundred thousand ratings, there are books which just tend to become popular as each day seems to pass. \n",
    "\n",
    "We've always conisdered the magical persona books seem to hold, and with this notebook, we step out on a journey to see what kind of books really drives people to read in this era of modern smart devices. \n",
    "\n",
    "With such a vast, overwhelming number of factors, we'll go over such demographics: \n",
    "- Does any relationship lie between ratings and the total ratings given?\n",
    "- Where do majority of the books lie, in terms of ratings - Does reading a book really bring forth bias for the ratings?\n",
    "- Do authors tend to perform same over time, with all their newer books? Or do they just fizzle out. \n",
    "- Do number of pages make an impact on reading styles, ratings and popularity?\n",
    "- Can books be recommended based on ratings? Is that a factor which can work?\n",
    "\n"
   ]
  },
  {
   "cell_type": "markdown",
   "metadata": {},
   "source": [
    "### If you like my work, please consider upvoting my kernel. :)"
   ]
  },
  {
   "cell_type": "markdown",
   "metadata": {},
   "source": [
    "# What's in this kernel?\n"
   ]
  },
  {
   "cell_type": "markdown",
   "metadata": {},
   "source": [
    "1. [Loading required libraries, with installation](#1)\n",
    "\n",
    "2. [Getting basic ideas about the data](#2)\n",
    "\n",
    "3. [Exploratory Data Analysis](#3)\n",
    "    1. [Which are the books with most occurances in the list?](#4)\n",
    "    2. [What is the distribution of books across languages?](#5)\n",
    "    3. [Which are the top 10 most rated books?](#6)\n",
    "    4. [Which are the authors with most books?](#7)\n",
    "    5. [Performance of an author over time:](#8)\n",
    "        \n",
    "        1. [Stephen King](#9)\n",
    "        \n",
    "        2. [Agatha Christie](#10)\n",
    "        \n",
    "        3. [Dan Brown](#11)\n",
    "        \n",
    "        4. [J.K. Rowling](#12)\n",
    "        \n",
    "    6. [Which are the top 10 highly rated authors?](#13)\n",
    "    7. [What is the rating distribution for the books?](#14)\n",
    "    8. [Is there relationship between ratings and review counts?](#15)\n",
    "    9. [Is there a relationship between number of pages and ratings?](#16)\n",
    "    10. [Is there a relationship between ratings and ratings count?](#17)\n",
    "    11. [Which are the books with the highest reviews?](#18)\n",
    "    \n",
    "    \n",
    "4. [Topic Modelling](#19)\n",
    "    1. [KMeans Clustering with outliers](#20)\n",
    "    2. [KMeans Clustering with optimisaztion](#21)\n",
    "\n",
    "\n",
    "5. [Book Recommendation Engine](#22)\n",
    "    "
   ]
  },
  {
   "cell_type": "markdown",
   "metadata": {},
   "source": [
    "> # Loading libraries with installation<a id=\"1\"></a> <br>"
   ]
  },
  {
   "cell_type": "code",
   "execution_count": 1,
   "metadata": {
    "_kg_hide-input": true,
    "_kg_hide-output": true
   },
   "outputs": [
    {
     "name": "stdout",
     "output_type": "stream",
     "text": [
      "Requirement already satisfied: isbnlib in c:\\users\\javie\\miniconda3\\envs\\gpu-test\\lib\\site-packages (3.10.9)\n",
      "Requirement already satisfied: newspaper3k in c:\\users\\javie\\miniconda3\\envs\\gpu-test\\lib\\site-packages (0.2.8)\n",
      "Requirement already satisfied: python-dateutil>=2.5.3 in c:\\users\\javie\\miniconda3\\envs\\gpu-test\\lib\\site-packages (from newspaper3k) (2.8.2)\n",
      "Requirement already satisfied: Pillow>=3.3.0 in c:\\users\\javie\\miniconda3\\envs\\gpu-test\\lib\\site-packages (from newspaper3k) (8.3.2)\n",
      "Requirement already satisfied: tinysegmenter==0.3 in c:\\users\\javie\\miniconda3\\envs\\gpu-test\\lib\\site-packages (from newspaper3k) (0.3)\n",
      "Requirement already satisfied: feedfinder2>=0.0.4 in c:\\users\\javie\\miniconda3\\envs\\gpu-test\\lib\\site-packages (from newspaper3k) (0.0.4)\n",
      "Requirement already satisfied: feedparser>=5.2.1 in c:\\users\\javie\\miniconda3\\envs\\gpu-test\\lib\\site-packages (from newspaper3k) (6.0.8)\n",
      "Requirement already satisfied: nltk>=3.2.1 in c:\\users\\javie\\miniconda3\\envs\\gpu-test\\lib\\site-packages (from newspaper3k) (3.6.5)\n",
      "Requirement already satisfied: tldextract>=2.0.1 in c:\\users\\javie\\miniconda3\\envs\\gpu-test\\lib\\site-packages (from newspaper3k) (3.1.2)\n",
      "Requirement already satisfied: jieba3k>=0.35.1 in c:\\users\\javie\\miniconda3\\envs\\gpu-test\\lib\\site-packages (from newspaper3k) (0.35.1)\n",
      "Requirement already satisfied: beautifulsoup4>=4.4.1 in c:\\users\\javie\\miniconda3\\envs\\gpu-test\\lib\\site-packages (from newspaper3k) (4.10.0)\n",
      "Requirement already satisfied: cssselect>=0.9.2 in c:\\users\\javie\\miniconda3\\envs\\gpu-test\\lib\\site-packages (from newspaper3k) (1.1.0)\n",
      "Requirement already satisfied: lxml>=3.6.0 in c:\\users\\javie\\miniconda3\\envs\\gpu-test\\lib\\site-packages (from newspaper3k) (4.6.4)\n",
      "Requirement already satisfied: PyYAML>=3.11 in c:\\users\\javie\\miniconda3\\envs\\gpu-test\\lib\\site-packages (from newspaper3k) (6.0)\n",
      "Requirement already satisfied: requests>=2.10.0 in c:\\users\\javie\\miniconda3\\envs\\gpu-test\\lib\\site-packages (from newspaper3k) (2.18.3)\n",
      "Requirement already satisfied: soupsieve>1.2 in c:\\users\\javie\\miniconda3\\envs\\gpu-test\\lib\\site-packages (from beautifulsoup4>=4.4.1->newspaper3k) (2.3.1)\n",
      "Requirement already satisfied: six in c:\\users\\javie\\miniconda3\\envs\\gpu-test\\lib\\site-packages (from feedfinder2>=0.0.4->newspaper3k) (1.16.0)\n",
      "Requirement already satisfied: sgmllib3k in c:\\users\\javie\\miniconda3\\envs\\gpu-test\\lib\\site-packages (from feedparser>=5.2.1->newspaper3k) (1.0.0)\n",
      "Requirement already satisfied: joblib in c:\\users\\javie\\miniconda3\\envs\\gpu-test\\lib\\site-packages (from nltk>=3.2.1->newspaper3k) (1.1.0)\n",
      "Requirement already satisfied: regex>=2021.8.3 in c:\\users\\javie\\miniconda3\\envs\\gpu-test\\lib\\site-packages (from nltk>=3.2.1->newspaper3k) (2021.11.10)\n",
      "Requirement already satisfied: tqdm in c:\\users\\javie\\miniconda3\\envs\\gpu-test\\lib\\site-packages (from nltk>=3.2.1->newspaper3k) (4.62.3)\n",
      "Requirement already satisfied: click in c:\\users\\javie\\miniconda3\\envs\\gpu-test\\lib\\site-packages (from nltk>=3.2.1->newspaper3k) (8.0.1)\n",
      "Requirement already satisfied: chardet<3.1.0,>=3.0.2 in c:\\users\\javie\\miniconda3\\envs\\gpu-test\\lib\\site-packages (from requests>=2.10.0->newspaper3k) (3.0.4)\n",
      "Requirement already satisfied: idna<2.6,>=2.5 in c:\\users\\javie\\miniconda3\\envs\\gpu-test\\lib\\site-packages (from requests>=2.10.0->newspaper3k) (2.5)\n",
      "Requirement already satisfied: urllib3<1.23,>=1.21.1 in c:\\users\\javie\\miniconda3\\envs\\gpu-test\\lib\\site-packages (from requests>=2.10.0->newspaper3k) (1.22)\n",
      "Requirement already satisfied: certifi>=2017.4.17 in c:\\users\\javie\\miniconda3\\envs\\gpu-test\\lib\\site-packages (from requests>=2.10.0->newspaper3k) (2021.10.8)\n",
      "Requirement already satisfied: requests-file>=1.4 in c:\\users\\javie\\miniconda3\\envs\\gpu-test\\lib\\site-packages (from tldextract>=2.0.1->newspaper3k) (1.5.1)\n",
      "Requirement already satisfied: filelock>=3.0.8 in c:\\users\\javie\\miniconda3\\envs\\gpu-test\\lib\\site-packages (from tldextract>=2.0.1->newspaper3k) (3.4.0)\n",
      "Requirement already satisfied: colorama in c:\\users\\javie\\miniconda3\\envs\\gpu-test\\lib\\site-packages (from click->nltk>=3.2.1->newspaper3k) (0.4.4)\n",
      "Requirement already satisfied: goodreads_api_client in c:\\users\\javie\\miniconda3\\envs\\gpu-test\\lib\\site-packages (0.1.0.dev4)\n",
      "Requirement already satisfied: rauth==0.7.3 in c:\\users\\javie\\miniconda3\\envs\\gpu-test\\lib\\site-packages (from goodreads_api_client) (0.7.3)\n",
      "Requirement already satisfied: xmltodict==0.11.0 in c:\\users\\javie\\miniconda3\\envs\\gpu-test\\lib\\site-packages (from goodreads_api_client) (0.11.0)\n",
      "Requirement already satisfied: requests==2.18.3 in c:\\users\\javie\\miniconda3\\envs\\gpu-test\\lib\\site-packages (from goodreads_api_client) (2.18.3)\n",
      "Requirement already satisfied: certifi>=2017.4.17 in c:\\users\\javie\\miniconda3\\envs\\gpu-test\\lib\\site-packages (from requests==2.18.3->goodreads_api_client) (2021.10.8)\n",
      "Requirement already satisfied: chardet<3.1.0,>=3.0.2 in c:\\users\\javie\\miniconda3\\envs\\gpu-test\\lib\\site-packages (from requests==2.18.3->goodreads_api_client) (3.0.4)\n",
      "Requirement already satisfied: urllib3<1.23,>=1.21.1 in c:\\users\\javie\\miniconda3\\envs\\gpu-test\\lib\\site-packages (from requests==2.18.3->goodreads_api_client) (1.22)\n",
      "Requirement already satisfied: idna<2.6,>=2.5 in c:\\users\\javie\\miniconda3\\envs\\gpu-test\\lib\\site-packages (from requests==2.18.3->goodreads_api_client) (2.5)\n",
      "Requirement already satisfied: seaborn in c:\\users\\javie\\miniconda3\\envs\\gpu-test\\lib\\site-packages (0.11.2)\n",
      "Requirement already satisfied: scipy>=1.0 in c:\\users\\javie\\miniconda3\\envs\\gpu-test\\lib\\site-packages (from seaborn) (1.7.1)\n",
      "Requirement already satisfied: matplotlib>=2.2 in c:\\users\\javie\\miniconda3\\envs\\gpu-test\\lib\\site-packages (from seaborn) (3.4.3)\n",
      "Requirement already satisfied: numpy>=1.15 in c:\\users\\javie\\miniconda3\\envs\\gpu-test\\lib\\site-packages (from seaborn) (1.20.3)\n",
      "Requirement already satisfied: pandas>=0.23 in c:\\users\\javie\\miniconda3\\envs\\gpu-test\\lib\\site-packages (from seaborn) (1.3.3)\n",
      "Requirement already satisfied: cycler>=0.10 in c:\\users\\javie\\miniconda3\\envs\\gpu-test\\lib\\site-packages (from matplotlib>=2.2->seaborn) (0.10.0)\n",
      "Requirement already satisfied: kiwisolver>=1.0.1 in c:\\users\\javie\\miniconda3\\envs\\gpu-test\\lib\\site-packages (from matplotlib>=2.2->seaborn) (1.3.2)\n",
      "Requirement already satisfied: pillow>=6.2.0 in c:\\users\\javie\\miniconda3\\envs\\gpu-test\\lib\\site-packages (from matplotlib>=2.2->seaborn) (8.3.2)\n",
      "Requirement already satisfied: pyparsing>=2.2.1 in c:\\users\\javie\\miniconda3\\envs\\gpu-test\\lib\\site-packages (from matplotlib>=2.2->seaborn) (3.0.5)\n",
      "Requirement already satisfied: python-dateutil>=2.7 in c:\\users\\javie\\miniconda3\\envs\\gpu-test\\lib\\site-packages (from matplotlib>=2.2->seaborn) (2.8.2)\n",
      "Requirement already satisfied: six in c:\\users\\javie\\miniconda3\\envs\\gpu-test\\lib\\site-packages (from cycler>=0.10->matplotlib>=2.2->seaborn) (1.16.0)\n",
      "Requirement already satisfied: pytz>=2017.3 in c:\\users\\javie\\miniconda3\\envs\\gpu-test\\lib\\site-packages (from pandas>=0.23->seaborn) (2021.3)\n",
      "Requirement already satisfied: progressbar in c:\\users\\javie\\miniconda3\\envs\\gpu-test\\lib\\site-packages (2.5)\n",
      "Requirement already satisfied: scikit-learn in c:\\users\\javie\\miniconda3\\envs\\gpu-test\\lib\\site-packages (1.0.1)\n",
      "Requirement already satisfied: scipy>=1.1.0 in c:\\users\\javie\\miniconda3\\envs\\gpu-test\\lib\\site-packages (from scikit-learn) (1.7.1)\n",
      "Requirement already satisfied: joblib>=0.11 in c:\\users\\javie\\miniconda3\\envs\\gpu-test\\lib\\site-packages (from scikit-learn) (1.1.0)\n",
      "Requirement already satisfied: threadpoolctl>=2.0.0 in c:\\users\\javie\\miniconda3\\envs\\gpu-test\\lib\\site-packages (from scikit-learn) (3.0.0)\n",
      "Requirement already satisfied: numpy>=1.14.6 in c:\\users\\javie\\miniconda3\\envs\\gpu-test\\lib\\site-packages (from scikit-learn) (1.20.3)\n"
     ]
    }
   ],
   "source": [
    "!pip install isbnlib\n",
    "!pip install newspaper3k\n",
    "!pip install goodreads_api_client\n",
    "!pip install seaborn\n",
    "!pip install progressbar\n",
    "!pip install -U scikit-learn"
   ]
  },
  {
   "cell_type": "code",
   "execution_count": 2,
   "metadata": {
    "scrolled": true
   },
   "outputs": [],
   "source": [
    "\n",
    "import numpy as np \n",
    "import pandas as pd\n",
    "import os\n",
    "import seaborn as sns\n",
    "import isbnlib\n",
    "from newspaper import Article\n",
    "import matplotlib.pyplot as plt\n",
    "plt.style.use('ggplot')\n",
    "from tqdm import tqdm\n",
    "from progressbar import ProgressBar\n",
    "import re\n",
    "from scipy.cluster.vq import kmeans, vq\n",
    "from pylab import plot, show\n",
    "from matplotlib.lines import Line2D\n",
    "import matplotlib.colors as mcolors\n",
    "import goodreads_api_client as gr\n",
    "from sklearn.cluster import KMeans\n",
    "from sklearn import neighbors\n",
    "from sklearn.model_selection import train_test_split\n",
    "from sklearn.preprocessing import MinMaxScaler\n"
   ]
  },
  {
   "cell_type": "code",
   "execution_count": 3,
   "metadata": {},
   "outputs": [],
   "source": [
    "import warnings\n",
    "warnings.filterwarnings(\"ignore\")"
   ]
  },
  {
   "cell_type": "markdown",
   "metadata": {},
   "source": [
    "> # Getting Basic Ideas<a id=\"2\"></a> <br>"
   ]
  },
  {
   "cell_type": "code",
   "execution_count": 4,
   "metadata": {
    "_kg_hide-output": true
   },
   "outputs": [
    {
     "name": "stderr",
     "output_type": "stream",
     "text": [
      "b'Skipping line 4012: expected 10 fields, saw 11\\nSkipping line 5688: expected 10 fields, saw 11\\nSkipping line 7056: expected 10 fields, saw 11\\nSkipping line 10601: expected 10 fields, saw 11\\nSkipping line 10668: expected 10 fields, saw 11\\n'\n"
     ]
    }
   ],
   "source": [
    "df = pd.read_csv('books.csv', error_bad_lines = False)\n",
    "\n"
   ]
  },
  {
   "cell_type": "code",
   "execution_count": 5,
   "metadata": {
    "_kg_hide-output": true
   },
   "outputs": [],
   "source": [
    "df.index = df['bookID']"
   ]
  },
  {
   "cell_type": "code",
   "execution_count": 6,
   "metadata": {},
   "outputs": [
    {
     "name": "stdout",
     "output_type": "stream",
     "text": [
      "Dataset contains 13714 rows and 10 columns\n"
     ]
    }
   ],
   "source": [
    "#Finding Number of rows and columns\n",
    "print(\"Dataset contains {} rows and {} columns\".format(df.shape[0], df.shape[1]))\n"
   ]
  },
  {
   "cell_type": "markdown",
   "metadata": {},
   "source": [
    "Let's begin the journey, there seems to be J.K. Rowling, predominantly in the head of this dataframe. Yet, as we've all come to know and love her, there's Mary here too. Let's fix this, just for the sake of brevity with all the numerous listings her books are sure to have. "
   ]
  },
  {
   "cell_type": "code",
   "execution_count": 7,
   "metadata": {},
   "outputs": [
    {
     "data": {
      "text/html": [
       "<div>\n",
       "<style scoped>\n",
       "    .dataframe tbody tr th:only-of-type {\n",
       "        vertical-align: middle;\n",
       "    }\n",
       "\n",
       "    .dataframe tbody tr th {\n",
       "        vertical-align: top;\n",
       "    }\n",
       "\n",
       "    .dataframe thead th {\n",
       "        text-align: right;\n",
       "    }\n",
       "</style>\n",
       "<table border=\"1\" class=\"dataframe\">\n",
       "  <thead>\n",
       "    <tr style=\"text-align: right;\">\n",
       "      <th></th>\n",
       "      <th>bookID</th>\n",
       "      <th>title</th>\n",
       "      <th>authors</th>\n",
       "      <th>average_rating</th>\n",
       "      <th>isbn</th>\n",
       "      <th>isbn13</th>\n",
       "      <th>language_code</th>\n",
       "      <th># num_pages</th>\n",
       "      <th>ratings_count</th>\n",
       "      <th>text_reviews_count</th>\n",
       "    </tr>\n",
       "    <tr>\n",
       "      <th>bookID</th>\n",
       "      <th></th>\n",
       "      <th></th>\n",
       "      <th></th>\n",
       "      <th></th>\n",
       "      <th></th>\n",
       "      <th></th>\n",
       "      <th></th>\n",
       "      <th></th>\n",
       "      <th></th>\n",
       "      <th></th>\n",
       "    </tr>\n",
       "  </thead>\n",
       "  <tbody>\n",
       "    <tr>\n",
       "      <th>1</th>\n",
       "      <td>1</td>\n",
       "      <td>Harry Potter and the Half-Blood Prince (Harry ...</td>\n",
       "      <td>J.K. Rowling-Mary GrandPré</td>\n",
       "      <td>4.56</td>\n",
       "      <td>0439785960</td>\n",
       "      <td>9780439785969</td>\n",
       "      <td>eng</td>\n",
       "      <td>652</td>\n",
       "      <td>1944099</td>\n",
       "      <td>26249</td>\n",
       "    </tr>\n",
       "    <tr>\n",
       "      <th>2</th>\n",
       "      <td>2</td>\n",
       "      <td>Harry Potter and the Order of the Phoenix (Har...</td>\n",
       "      <td>J.K. Rowling-Mary GrandPré</td>\n",
       "      <td>4.49</td>\n",
       "      <td>0439358078</td>\n",
       "      <td>9780439358071</td>\n",
       "      <td>eng</td>\n",
       "      <td>870</td>\n",
       "      <td>1996446</td>\n",
       "      <td>27613</td>\n",
       "    </tr>\n",
       "    <tr>\n",
       "      <th>3</th>\n",
       "      <td>3</td>\n",
       "      <td>Harry Potter and the Sorcerer's Stone (Harry P...</td>\n",
       "      <td>J.K. Rowling-Mary GrandPré</td>\n",
       "      <td>4.47</td>\n",
       "      <td>0439554934</td>\n",
       "      <td>9780439554930</td>\n",
       "      <td>eng</td>\n",
       "      <td>320</td>\n",
       "      <td>5629932</td>\n",
       "      <td>70390</td>\n",
       "    </tr>\n",
       "    <tr>\n",
       "      <th>4</th>\n",
       "      <td>4</td>\n",
       "      <td>Harry Potter and the Chamber of Secrets (Harry...</td>\n",
       "      <td>J.K. Rowling</td>\n",
       "      <td>4.41</td>\n",
       "      <td>0439554896</td>\n",
       "      <td>9780439554893</td>\n",
       "      <td>eng</td>\n",
       "      <td>352</td>\n",
       "      <td>6267</td>\n",
       "      <td>272</td>\n",
       "    </tr>\n",
       "    <tr>\n",
       "      <th>5</th>\n",
       "      <td>5</td>\n",
       "      <td>Harry Potter and the Prisoner of Azkaban (Harr...</td>\n",
       "      <td>J.K. Rowling-Mary GrandPré</td>\n",
       "      <td>4.55</td>\n",
       "      <td>043965548X</td>\n",
       "      <td>9780439655484</td>\n",
       "      <td>eng</td>\n",
       "      <td>435</td>\n",
       "      <td>2149872</td>\n",
       "      <td>33964</td>\n",
       "    </tr>\n",
       "  </tbody>\n",
       "</table>\n",
       "</div>"
      ],
      "text/plain": [
       "        bookID                                              title  \\\n",
       "bookID                                                              \n",
       "1            1  Harry Potter and the Half-Blood Prince (Harry ...   \n",
       "2            2  Harry Potter and the Order of the Phoenix (Har...   \n",
       "3            3  Harry Potter and the Sorcerer's Stone (Harry P...   \n",
       "4            4  Harry Potter and the Chamber of Secrets (Harry...   \n",
       "5            5  Harry Potter and the Prisoner of Azkaban (Harr...   \n",
       "\n",
       "                           authors  average_rating        isbn         isbn13  \\\n",
       "bookID                                                                          \n",
       "1       J.K. Rowling-Mary GrandPré            4.56  0439785960  9780439785969   \n",
       "2       J.K. Rowling-Mary GrandPré            4.49  0439358078  9780439358071   \n",
       "3       J.K. Rowling-Mary GrandPré            4.47  0439554934  9780439554930   \n",
       "4                     J.K. Rowling            4.41  0439554896  9780439554893   \n",
       "5       J.K. Rowling-Mary GrandPré            4.55  043965548X  9780439655484   \n",
       "\n",
       "       language_code  # num_pages  ratings_count  text_reviews_count  \n",
       "bookID                                                                \n",
       "1                eng          652        1944099               26249  \n",
       "2                eng          870        1996446               27613  \n",
       "3                eng          320        5629932               70390  \n",
       "4                eng          352           6267                 272  \n",
       "5                eng          435        2149872               33964  "
      ]
     },
     "execution_count": 7,
     "metadata": {},
     "output_type": "execute_result"
    }
   ],
   "source": [
    "df.head()"
   ]
  },
  {
   "cell_type": "markdown",
   "metadata": {},
   "source": [
    "Fixing the name for every Harry Potter series to be just J.K. Rowling, the database is nearly ready for EDA"
   ]
  },
  {
   "cell_type": "code",
   "execution_count": 8,
   "metadata": {
    "_kg_hide-input": true,
    "_kg_hide-output": true
   },
   "outputs": [],
   "source": [
    "df.replace(to_replace='J.K. Rowling-Mary GrandPré', value = 'J.K. Rowling', inplace=True)\n",
    "\n"
   ]
  },
  {
   "cell_type": "code",
   "execution_count": 9,
   "metadata": {
    "_kg_hide-input": true,
    "_kg_hide-output": false
   },
   "outputs": [
    {
     "data": {
      "text/html": [
       "<div>\n",
       "<style scoped>\n",
       "    .dataframe tbody tr th:only-of-type {\n",
       "        vertical-align: middle;\n",
       "    }\n",
       "\n",
       "    .dataframe tbody tr th {\n",
       "        vertical-align: top;\n",
       "    }\n",
       "\n",
       "    .dataframe thead th {\n",
       "        text-align: right;\n",
       "    }\n",
       "</style>\n",
       "<table border=\"1\" class=\"dataframe\">\n",
       "  <thead>\n",
       "    <tr style=\"text-align: right;\">\n",
       "      <th></th>\n",
       "      <th>bookID</th>\n",
       "      <th>title</th>\n",
       "      <th>authors</th>\n",
       "      <th>average_rating</th>\n",
       "      <th>isbn</th>\n",
       "      <th>isbn13</th>\n",
       "      <th>language_code</th>\n",
       "      <th># num_pages</th>\n",
       "      <th>ratings_count</th>\n",
       "      <th>text_reviews_count</th>\n",
       "    </tr>\n",
       "    <tr>\n",
       "      <th>bookID</th>\n",
       "      <th></th>\n",
       "      <th></th>\n",
       "      <th></th>\n",
       "      <th></th>\n",
       "      <th></th>\n",
       "      <th></th>\n",
       "      <th></th>\n",
       "      <th></th>\n",
       "      <th></th>\n",
       "      <th></th>\n",
       "    </tr>\n",
       "  </thead>\n",
       "  <tbody>\n",
       "    <tr>\n",
       "      <th>1</th>\n",
       "      <td>1</td>\n",
       "      <td>Harry Potter and the Half-Blood Prince (Harry ...</td>\n",
       "      <td>J.K. Rowling</td>\n",
       "      <td>4.56</td>\n",
       "      <td>0439785960</td>\n",
       "      <td>9780439785969</td>\n",
       "      <td>eng</td>\n",
       "      <td>652</td>\n",
       "      <td>1944099</td>\n",
       "      <td>26249</td>\n",
       "    </tr>\n",
       "    <tr>\n",
       "      <th>2</th>\n",
       "      <td>2</td>\n",
       "      <td>Harry Potter and the Order of the Phoenix (Har...</td>\n",
       "      <td>J.K. Rowling</td>\n",
       "      <td>4.49</td>\n",
       "      <td>0439358078</td>\n",
       "      <td>9780439358071</td>\n",
       "      <td>eng</td>\n",
       "      <td>870</td>\n",
       "      <td>1996446</td>\n",
       "      <td>27613</td>\n",
       "    </tr>\n",
       "    <tr>\n",
       "      <th>3</th>\n",
       "      <td>3</td>\n",
       "      <td>Harry Potter and the Sorcerer's Stone (Harry P...</td>\n",
       "      <td>J.K. Rowling</td>\n",
       "      <td>4.47</td>\n",
       "      <td>0439554934</td>\n",
       "      <td>9780439554930</td>\n",
       "      <td>eng</td>\n",
       "      <td>320</td>\n",
       "      <td>5629932</td>\n",
       "      <td>70390</td>\n",
       "    </tr>\n",
       "    <tr>\n",
       "      <th>4</th>\n",
       "      <td>4</td>\n",
       "      <td>Harry Potter and the Chamber of Secrets (Harry...</td>\n",
       "      <td>J.K. Rowling</td>\n",
       "      <td>4.41</td>\n",
       "      <td>0439554896</td>\n",
       "      <td>9780439554893</td>\n",
       "      <td>eng</td>\n",
       "      <td>352</td>\n",
       "      <td>6267</td>\n",
       "      <td>272</td>\n",
       "    </tr>\n",
       "    <tr>\n",
       "      <th>5</th>\n",
       "      <td>5</td>\n",
       "      <td>Harry Potter and the Prisoner of Azkaban (Harr...</td>\n",
       "      <td>J.K. Rowling</td>\n",
       "      <td>4.55</td>\n",
       "      <td>043965548X</td>\n",
       "      <td>9780439655484</td>\n",
       "      <td>eng</td>\n",
       "      <td>435</td>\n",
       "      <td>2149872</td>\n",
       "      <td>33964</td>\n",
       "    </tr>\n",
       "  </tbody>\n",
       "</table>\n",
       "</div>"
      ],
      "text/plain": [
       "        bookID                                              title  \\\n",
       "bookID                                                              \n",
       "1            1  Harry Potter and the Half-Blood Prince (Harry ...   \n",
       "2            2  Harry Potter and the Order of the Phoenix (Har...   \n",
       "3            3  Harry Potter and the Sorcerer's Stone (Harry P...   \n",
       "4            4  Harry Potter and the Chamber of Secrets (Harry...   \n",
       "5            5  Harry Potter and the Prisoner of Azkaban (Harr...   \n",
       "\n",
       "             authors  average_rating        isbn         isbn13 language_code  \\\n",
       "bookID                                                                          \n",
       "1       J.K. Rowling            4.56  0439785960  9780439785969           eng   \n",
       "2       J.K. Rowling            4.49  0439358078  9780439358071           eng   \n",
       "3       J.K. Rowling            4.47  0439554934  9780439554930           eng   \n",
       "4       J.K. Rowling            4.41  0439554896  9780439554893           eng   \n",
       "5       J.K. Rowling            4.55  043965548X  9780439655484           eng   \n",
       "\n",
       "        # num_pages  ratings_count  text_reviews_count  \n",
       "bookID                                                  \n",
       "1               652        1944099               26249  \n",
       "2               870        1996446               27613  \n",
       "3               320        5629932               70390  \n",
       "4               352           6267                 272  \n",
       "5               435        2149872               33964  "
      ]
     },
     "execution_count": 9,
     "metadata": {},
     "output_type": "execute_result"
    }
   ],
   "source": [
    "df.head()"
   ]
  },
  {
   "cell_type": "markdown",
   "metadata": {},
   "source": [
    "#### Columns Description: \n",
    "\n",
    "- **bookID** Contains the unique ID for each book/series\n",
    "- **title** contains the titles of the books\n",
    "- **authors** contains the author of the particular book\n",
    "- **average_rating** the average rating of the books, as decided by the users\n",
    "- **ISBN** ISBN(10) number, tells the information about a book - such as edition and publisher\n",
    "- **ISBN 13** The new format for ISBN, implemented in 2007. 13 digits\n",
    "- **language_code** Tells the language for the books\n",
    "- **Num_pages** Contains the number of pages for the book\n",
    "- **Ratings_count** Contains the number of ratings given for the book\n",
    "- **text_reviews_count** Has the count of reviews left by users"
   ]
  },
  {
   "cell_type": "markdown",
   "metadata": {},
   "source": [
    "# Exploratory Data Analysis<a id=\"3\"></a> <br>"
   ]
  },
  {
   "cell_type": "markdown",
   "metadata": {},
   "source": [
    "### Which are the books with most occurances in the list?<a id=\"4\"></a> <br>"
   ]
  },
  {
   "cell_type": "code",
   "execution_count": 10,
   "metadata": {
    "_kg_hide-input": true
   },
   "outputs": [
    {
     "data": {
      "image/png": "[encoded data removed]",
      "text/plain": [
       "<Figure size 1440x1080 with 1 Axes>"
      ]
     },
     "metadata": {},
     "output_type": "display_data"
    }
   ],
   "source": [
    "#Taking the first 20:\n",
    "\n",
    "sns.set_context('poster')\n",
    "plt.figure(figsize=(20,15))\n",
    "books = df['title'].value_counts()[:20]\n",
    "rating = df.average_rating[:20]\n",
    "sns.barplot(x = books, y = books.index, palette='deep')\n",
    "plt.title(\"Most Occurring Books\")\n",
    "plt.xlabel(\"Number of occurances\")\n",
    "plt.ylabel(\"Books\")\n",
    "plt.show()"
   ]
  },
  {
   "cell_type": "markdown",
   "metadata": {},
   "source": [
    "We can see that **One Hundred Years Of Solitude** and **Salem's List** have the most number of occurrances with the same name in the data. \n",
    "\n",
    "These books have come up in this database over and over again, with various publication editions. From the list, we can see that most of the books from the given chart are either old, steadfast classics or books which are usually assigned to schools. Seems like some books do age well, and these have just braved the flow of time. "
   ]
  },
  {
   "cell_type": "markdown",
   "metadata": {},
   "source": [
    "### What is the distribution of books for all languages?<a id=\"5\"></a> <br>"
   ]
  },
  {
   "cell_type": "code",
   "execution_count": 11,
   "metadata": {
    "_kg_hide-input": true
   },
   "outputs": [
    {
     "data": {
      "image/png": "[encoded data removed]",
      "text/plain": [
       "<Figure size 1080x720 with 1 Axes>"
      ]
     },
     "metadata": {},
     "output_type": "display_data"
    }
   ],
   "source": [
    "sns.set_context('paper')\n",
    "plt.figure(figsize=(15,10))\n",
    "ax = df.groupby('language_code')['title'].count().plot.bar()\n",
    "plt.title('Language Code')\n",
    "plt.xticks(fontsize = 15)\n",
    "for p in ax.patches:\n",
    "    ax.annotate(str(p.get_height()), (p.get_x()-0.3, p.get_height()+100))"
   ]
  },
  {
   "cell_type": "markdown",
   "metadata": {},
   "source": [
    "From the given graph, we can infer that in the given data, majority of the books are in english languages, with some further categorised into English-US, english-UK and english-CA."
   ]
  },
  {
   "cell_type": "markdown",
   "metadata": {},
   "source": [
    "### Which are the top 10 most rated books?<a id=\"6\"></a> <br>"
   ]
  },
  {
   "cell_type": "code",
   "execution_count": 12,
   "metadata": {
    "_kg_hide-input": true
   },
   "outputs": [
    {
     "data": {
      "text/plain": [
       "<AxesSubplot:xlabel='ratings_count', ylabel='title'>"
      ]
     },
     "execution_count": 12,
     "metadata": {},
     "output_type": "execute_result"
    },
    {
     "data": {
      "image/png": "[encoded data removed]",
      "text/plain": [
       "<Figure size 1080x720 with 1 Axes>"
      ]
     },
     "metadata": {},
     "output_type": "display_data"
    }
   ],
   "source": [
    "most_rated = df.sort_values('ratings_count', ascending = False).head(10).set_index('title')\n",
    "plt.figure(figsize=(15,10))\n",
    "sns.barplot(most_rated['ratings_count'], most_rated.index, palette='rocket')\n",
    "\n",
    "\n"
   ]
  },
  {
   "cell_type": "markdown",
   "metadata": {},
   "source": [
    "1 We can see that the beginning books of the series usually have most of the ratings, i.e, **Harry Potter and the Sorcerer's stone**, **Twilight #1**, **The Hobbit**, **Angels and demons #1**.\n",
    "\n",
    "2 Harry potter's first book dominates the section by having more than 5000000 ratings. Infact, apart from a few, such as Catcher in the Rye and Animal Farm, all of the books seem to be from a series of books, getting the notion into our head that once people begin, most of them seem to dive in with the notion of completing it. \n",
    "\n",
    "Yet, when we glance at the first and fifth book of Harry Potter, we can also notice that there has been a ridiculously huge margin in the number of readers/ratings for the books, signifying that there were people who did not pick up the next book in the series and/or only found the first book to touch their hearts up to an extent to drop a vote"
   ]
  },
  {
   "cell_type": "markdown",
   "metadata": {},
   "source": [
    "### Which are the authors with most books?<a id=\"7\"></a> <br>"
   ]
  },
  {
   "cell_type": "code",
   "execution_count": 13,
   "metadata": {
    "_kg_hide-input": true
   },
   "outputs": [
    {
     "data": {
      "image/png": "[encoded data removed]",
      "text/plain": [
       "<Figure size 1080x720 with 1 Axes>"
      ]
     },
     "metadata": {},
     "output_type": "display_data"
    }
   ],
   "source": [
    "sns.set_context('talk')\n",
    "most_books = df.groupby('authors')['title'].count().reset_index().sort_values('title', ascending=False).head(10).set_index('authors')\n",
    "plt.figure(figsize=(15,10))\n",
    "ax = sns.barplot(most_books['title'], most_books.index, palette='icefire_r')\n",
    "ax.set_title(\"Top 10 authors with most books\")\n",
    "ax.set_xlabel(\"Total number of books\")\n",
    "for i in ax.patches:\n",
    "    ax.text(i.get_width()+.3, i.get_y()+0.5, str(round(i.get_width())), fontsize = 10, color = 'k')\n",
    "\n"
   ]
  },
  {
   "cell_type": "markdown",
   "metadata": {},
   "source": [
    "We can see from the above plot that Agatha Christie has the most number of books in the list - although a lot of them might be just various publications for the same book, considering the fact that her work has been here for quite a while, spanning decades.\n",
    "\n",
    "From the names in the list, we can again gather that most of the authors have either been writing for decades, churning numerous books from time to time, or are authors who are regaled as the 'classics' in our history. \n",
    "\n",
    "It seems, hype does play a role in this. "
   ]
  },
  {
   "cell_type": "markdown",
   "metadata": {},
   "source": [
    "### Getting overall performance for an author over time<a id=\"8\"></a> <br>"
   ]
  },
  {
   "cell_type": "code",
   "execution_count": 14,
   "metadata": {
    "_kg_hide-input": true,
    "_kg_hide-output": true
   },
   "outputs": [],
   "source": [
    "client = gr.Client(developer_key= 'fgwnppR6Q1wpFt0n6umUQ') #If possible, please get your own? :)"
   ]
  },
  {
   "cell_type": "code",
   "execution_count": 15,
   "metadata": {},
   "outputs": [],
   "source": [
    "# Creating a function to get book details from the ISBN 13 value.\n",
    "\n",
    "#Alternate scraping solution, when both the API(s) fails\n",
    "def html(isbn):\n",
    "    url = 'https://isbndb.com/book/'+isbn\n",
    "    article = Article(url)\n",
    "    #article = 'https://isbndb.com/book/9780450524684'\n",
    "    article.download()\n",
    "    article.parse()\n",
    "    ar = article.html\n",
    "    ar = ar[9300:9900]\n",
    "    return ar\n",
    "\n",
    "def reg(l):\n",
    "    return re.search(r'(\\b\\d{4})\\b',l).groups()[0]\n",
    "    \n",
    "#Gathering the data for the year column for the books from their ISBN 13 values\n",
    "def bookdata(df):\n",
    "    year=[]\n",
    "    pbar = ProgressBar()\n",
    "    for isbn in pbar(df.isbn13):\n",
    "        try:\n",
    "            details = isbnlib.meta(isbn)\n",
    "            year.append(details['Year'])\n",
    "        except :\n",
    "            #Trying out with goodreads api now\n",
    "            try: \n",
    "                book_detail = client.Book.show_by_isbn(isbn)\n",
    "                keys_wanted = ['publication_year']\n",
    "                reduced_book = {k:v for k,v in book_detail.items() if k in keys_wanted}\n",
    "                year.append((reduced_book['publication_year']))\n",
    "            \n",
    "            except: \n",
    "                #Going with webscraping\n",
    "                try:\n",
    "                    y = html(isbn)\n",
    "                    year_extracted = reg(y) #Extracting year with regex\n",
    "                    year.append(y)\n",
    "                except:\n",
    "                    year.append('0')\n",
    "                \n",
    "    return year\n",
    "\n",
    "def plot_author_chart(author_df):\n",
    "    year = bookdata(author_df)\n",
    "    author_df = final_df(author_df, year)\n",
    "    author_df.dropna(0, inplace=True)\n",
    "    author_df = author_df[author_df['Year'].str.isnumeric()]\n",
    "    author_df = author_df.set_index('title')\n",
    "    author_df = author_df[author_df.Year !='0']\n",
    "    plt.figure(figsize=(15,15))\n",
    "    sns.set_context('talk')\n",
    "    plt.xticks(rotation=30)\n",
    "    ax =  sns.barplot( author_df['Year'], author_df['average_rating'], palette='deep')\n",
    "    ax.set_title(\"Average rating of books over time, \"+ author_df.authors[1])\n",
    "    plt.xticks(rotation=30)\n",
    "    return ax\n",
    "\n",
    "\n",
    "\n",
    "# The finction for getting the final dataframe for the charts\n",
    "def final_df(df1, l):\n",
    "    year_df = pd.DataFrame(l, columns=['Year'])\n",
    "    df1 = df1.reset_index(drop=True)\n",
    "    final = df1[['authors', 'average_rating', 'title']].join(year_df)\n",
    "    return final"
   ]
  },
  {
   "cell_type": "code",
   "execution_count": 16,
   "metadata": {},
   "outputs": [
    {
     "data": {
      "text/plain": [
       "Agatha Christie                69\n",
       "Stephen King                   66\n",
       "Orson Scott Card               48\n",
       "Rumiko Takahashi               46\n",
       "P.G. Wodehouse                 42\n",
       "Terry Brooks                   40\n",
       "Piers Anthony                  34\n",
       "Margaret Weis-Tracy Hickman    33\n",
       "Dan Simmons                    32\n",
       "Gabriel García Márquez         31\n",
       "Name: authors, dtype: int64"
      ]
     },
     "execution_count": 16,
     "metadata": {},
     "output_type": "execute_result"
    }
   ],
   "source": [
    "#Finding the top 15 authors with the most number of books\n",
    "df['authors'].value_counts().head(10)"
   ]
  },
  {
   "cell_type": "markdown",
   "metadata": {},
   "source": [
    "Let's test out the functions now. \n",
    "We'll test out the performance of these four authors over time:\n",
    "- Stephen King\n",
    "- Agatha Christie\n",
    "- Dan Brown\n",
    "- J.K. Rowling\n",
    "\n",
    "Ranging from authors spanning a few decades with their titles to some of the current favourites, let's see how they fared over time. \n",
    "\n",
    "For the sake of brevity, only english language has been used"
   ]
  },
  {
   "cell_type": "code",
   "execution_count": 17,
   "metadata": {},
   "outputs": [],
   "source": [
    "authors= ['Stephen King', 'Agatha Christie', 'Dan Brown', 'J.K. Rowling']"
   ]
  },
  {
   "cell_type": "markdown",
   "metadata": {},
   "source": [
    "#### Stephen King: <a id=\"9\"></a> <br> "
   ]
  },
  {
   "cell_type": "markdown",
   "metadata": {},
   "source": [
    "We can notice from the plot that Stephen King was at his best in 1987, hitting the peak. His performance has been steadily consitent, dipping once in the nineties and after the new turn of the decade. Known for his famous works such as Rita Hayworth and Shawshank, which coincidently resides within his best range, 1982-1987, Stephen King is a legend in his own rights."
   ]
  },
  {
   "cell_type": "markdown",
   "metadata": {},
   "source": [
    "#### Agatha Christie <a id=\"10\"></a> <br>"
   ]
  },
  {
   "cell_type": "markdown",
   "metadata": {},
   "source": [
    "Agatha Christie has been a legend throughout the course over the years. Most of her books have performed admirably, still staying well above 4, presumably because of Poirot and his fabulous skills (Might even give Sherlock a run for his money)\n",
    "\n",
    "From this chart, it's perhaps safe to assume that the performance of her books were perhaps the least volatile"
   ]
  },
  {
   "cell_type": "markdown",
   "metadata": {},
   "source": [
    "#### Dan Brown <a id=\"11\"></a> <br>"
   ]
  },
  {
   "cell_type": "code",
   "execution_count": 18,
   "metadata": {},
   "outputs": [
    {
     "name": "stderr",
     "output_type": "stream",
     "text": [
      "100% |########################################################################|\n"
     ]
    },
    {
     "ename": "ValueError",
     "evalue": "min() arg is an empty sequence",
     "output_type": "error",
     "traceback": [
      "\u001b[1;31m---------------------------------------------------------------------------\u001b[0m",
      "\u001b[1;31mValueError\u001b[0m                                Traceback (most recent call last)",
      "\u001b[1;32m~\\AppData\\Local\\Temp/ipykernel_10672/382705208.py\u001b[0m in \u001b[0;36m<module>\u001b[1;34m\u001b[0m\n\u001b[0;32m      1\u001b[0m \u001b[0mauthor_df\u001b[0m \u001b[1;33m=\u001b[0m \u001b[0mdf\u001b[0m\u001b[1;33m[\u001b[0m\u001b[0mdf\u001b[0m\u001b[1;33m[\u001b[0m\u001b[1;34m'authors'\u001b[0m\u001b[1;33m]\u001b[0m\u001b[1;33m==\u001b[0m\u001b[0mauthors\u001b[0m\u001b[1;33m[\u001b[0m\u001b[1;36m2\u001b[0m\u001b[1;33m]\u001b[0m\u001b[1;33m]\u001b[0m\u001b[1;33m\u001b[0m\u001b[1;33m\u001b[0m\u001b[0m\n\u001b[0;32m      2\u001b[0m \u001b[0mauthor_df\u001b[0m \u001b[1;33m=\u001b[0m \u001b[0mauthor_df\u001b[0m\u001b[1;33m[\u001b[0m\u001b[0mauthor_df\u001b[0m\u001b[1;33m[\u001b[0m\u001b[1;34m'language_code'\u001b[0m\u001b[1;33m]\u001b[0m\u001b[1;33m==\u001b[0m\u001b[1;34m'eng'\u001b[0m\u001b[1;33m]\u001b[0m\u001b[1;33m\u001b[0m\u001b[1;33m\u001b[0m\u001b[0m\n\u001b[1;32m----> 3\u001b[1;33m \u001b[0mplot_author_chart\u001b[0m\u001b[1;33m(\u001b[0m\u001b[0mauthor_df\u001b[0m\u001b[1;33m)\u001b[0m\u001b[1;33m\u001b[0m\u001b[1;33m\u001b[0m\u001b[0m\n\u001b[0m",
      "\u001b[1;32m~\\AppData\\Local\\Temp/ipykernel_10672/3210854692.py\u001b[0m in \u001b[0;36mplot_author_chart\u001b[1;34m(author_df)\u001b[0m\n\u001b[0;32m     52\u001b[0m     \u001b[0msns\u001b[0m\u001b[1;33m.\u001b[0m\u001b[0mset_context\u001b[0m\u001b[1;33m(\u001b[0m\u001b[1;34m'talk'\u001b[0m\u001b[1;33m)\u001b[0m\u001b[1;33m\u001b[0m\u001b[1;33m\u001b[0m\u001b[0m\n\u001b[0;32m     53\u001b[0m     \u001b[0mplt\u001b[0m\u001b[1;33m.\u001b[0m\u001b[0mxticks\u001b[0m\u001b[1;33m(\u001b[0m\u001b[0mrotation\u001b[0m\u001b[1;33m=\u001b[0m\u001b[1;36m30\u001b[0m\u001b[1;33m)\u001b[0m\u001b[1;33m\u001b[0m\u001b[1;33m\u001b[0m\u001b[0m\n\u001b[1;32m---> 54\u001b[1;33m     \u001b[0max\u001b[0m \u001b[1;33m=\u001b[0m  \u001b[0msns\u001b[0m\u001b[1;33m.\u001b[0m\u001b[0mbarplot\u001b[0m\u001b[1;33m(\u001b[0m \u001b[0mauthor_df\u001b[0m\u001b[1;33m[\u001b[0m\u001b[1;34m'Year'\u001b[0m\u001b[1;33m]\u001b[0m\u001b[1;33m,\u001b[0m \u001b[0mauthor_df\u001b[0m\u001b[1;33m[\u001b[0m\u001b[1;34m'average_rating'\u001b[0m\u001b[1;33m]\u001b[0m\u001b[1;33m,\u001b[0m \u001b[0mpalette\u001b[0m\u001b[1;33m=\u001b[0m\u001b[1;34m'deep'\u001b[0m\u001b[1;33m)\u001b[0m\u001b[1;33m\u001b[0m\u001b[1;33m\u001b[0m\u001b[0m\n\u001b[0m\u001b[0;32m     55\u001b[0m     \u001b[0max\u001b[0m\u001b[1;33m.\u001b[0m\u001b[0mset_title\u001b[0m\u001b[1;33m(\u001b[0m\u001b[1;34m\"Average rating of books over time, \"\u001b[0m\u001b[1;33m+\u001b[0m \u001b[0mauthor_df\u001b[0m\u001b[1;33m.\u001b[0m\u001b[0mauthors\u001b[0m\u001b[1;33m[\u001b[0m\u001b[1;36m1\u001b[0m\u001b[1;33m]\u001b[0m\u001b[1;33m)\u001b[0m\u001b[1;33m\u001b[0m\u001b[1;33m\u001b[0m\u001b[0m\n\u001b[0;32m     56\u001b[0m     \u001b[0mplt\u001b[0m\u001b[1;33m.\u001b[0m\u001b[0mxticks\u001b[0m\u001b[1;33m(\u001b[0m\u001b[0mrotation\u001b[0m\u001b[1;33m=\u001b[0m\u001b[1;36m30\u001b[0m\u001b[1;33m)\u001b[0m\u001b[1;33m\u001b[0m\u001b[1;33m\u001b[0m\u001b[0m\n",
      "\u001b[1;32m~\\Miniconda3\\envs\\gpu-test\\lib\\site-packages\\seaborn\\_decorators.py\u001b[0m in \u001b[0;36minner_f\u001b[1;34m(*args, **kwargs)\u001b[0m\n\u001b[0;32m     44\u001b[0m             )\n\u001b[0;32m     45\u001b[0m         \u001b[0mkwargs\u001b[0m\u001b[1;33m.\u001b[0m\u001b[0mupdate\u001b[0m\u001b[1;33m(\u001b[0m\u001b[1;33m{\u001b[0m\u001b[0mk\u001b[0m\u001b[1;33m:\u001b[0m \u001b[0marg\u001b[0m \u001b[1;32mfor\u001b[0m \u001b[0mk\u001b[0m\u001b[1;33m,\u001b[0m \u001b[0marg\u001b[0m \u001b[1;32min\u001b[0m \u001b[0mzip\u001b[0m\u001b[1;33m(\u001b[0m\u001b[0msig\u001b[0m\u001b[1;33m.\u001b[0m\u001b[0mparameters\u001b[0m\u001b[1;33m,\u001b[0m \u001b[0margs\u001b[0m\u001b[1;33m)\u001b[0m\u001b[1;33m}\u001b[0m\u001b[1;33m)\u001b[0m\u001b[1;33m\u001b[0m\u001b[1;33m\u001b[0m\u001b[0m\n\u001b[1;32m---> 46\u001b[1;33m         \u001b[1;32mreturn\u001b[0m \u001b[0mf\u001b[0m\u001b[1;33m(\u001b[0m\u001b[1;33m**\u001b[0m\u001b[0mkwargs\u001b[0m\u001b[1;33m)\u001b[0m\u001b[1;33m\u001b[0m\u001b[1;33m\u001b[0m\u001b[0m\n\u001b[0m\u001b[0;32m     47\u001b[0m     \u001b[1;32mreturn\u001b[0m \u001b[0minner_f\u001b[0m\u001b[1;33m\u001b[0m\u001b[1;33m\u001b[0m\u001b[0m\n\u001b[0;32m     48\u001b[0m \u001b[1;33m\u001b[0m\u001b[0m\n",
      "\u001b[1;32m~\\Miniconda3\\envs\\gpu-test\\lib\\site-packages\\seaborn\\categorical.py\u001b[0m in \u001b[0;36mbarplot\u001b[1;34m(x, y, hue, data, order, hue_order, estimator, ci, n_boot, units, seed, orient, color, palette, saturation, errcolor, errwidth, capsize, dodge, ax, **kwargs)\u001b[0m\n\u001b[0;32m   3180\u001b[0m ):\n\u001b[0;32m   3181\u001b[0m \u001b[1;33m\u001b[0m\u001b[0m\n\u001b[1;32m-> 3182\u001b[1;33m     plotter = _BarPlotter(x, y, hue, data, order, hue_order,\n\u001b[0m\u001b[0;32m   3183\u001b[0m                           \u001b[0mestimator\u001b[0m\u001b[1;33m,\u001b[0m \u001b[0mci\u001b[0m\u001b[1;33m,\u001b[0m \u001b[0mn_boot\u001b[0m\u001b[1;33m,\u001b[0m \u001b[0munits\u001b[0m\u001b[1;33m,\u001b[0m \u001b[0mseed\u001b[0m\u001b[1;33m,\u001b[0m\u001b[1;33m\u001b[0m\u001b[1;33m\u001b[0m\u001b[0m\n\u001b[0;32m   3184\u001b[0m                           \u001b[0morient\u001b[0m\u001b[1;33m,\u001b[0m \u001b[0mcolor\u001b[0m\u001b[1;33m,\u001b[0m \u001b[0mpalette\u001b[0m\u001b[1;33m,\u001b[0m \u001b[0msaturation\u001b[0m\u001b[1;33m,\u001b[0m\u001b[1;33m\u001b[0m\u001b[1;33m\u001b[0m\u001b[0m\n",
      "\u001b[1;32m~\\Miniconda3\\envs\\gpu-test\\lib\\site-packages\\seaborn\\categorical.py\u001b[0m in \u001b[0;36m__init__\u001b[1;34m(self, x, y, hue, data, order, hue_order, estimator, ci, n_boot, units, seed, orient, color, palette, saturation, errcolor, errwidth, capsize, dodge)\u001b[0m\n\u001b[0;32m   1584\u001b[0m         self.establish_variables(x, y, hue, data, orient,\n\u001b[0;32m   1585\u001b[0m                                  order, hue_order, units)\n\u001b[1;32m-> 1586\u001b[1;33m         \u001b[0mself\u001b[0m\u001b[1;33m.\u001b[0m\u001b[0mestablish_colors\u001b[0m\u001b[1;33m(\u001b[0m\u001b[0mcolor\u001b[0m\u001b[1;33m,\u001b[0m \u001b[0mpalette\u001b[0m\u001b[1;33m,\u001b[0m \u001b[0msaturation\u001b[0m\u001b[1;33m)\u001b[0m\u001b[1;33m\u001b[0m\u001b[1;33m\u001b[0m\u001b[0m\n\u001b[0m\u001b[0;32m   1587\u001b[0m         \u001b[0mself\u001b[0m\u001b[1;33m.\u001b[0m\u001b[0mestimate_statistic\u001b[0m\u001b[1;33m(\u001b[0m\u001b[0mestimator\u001b[0m\u001b[1;33m,\u001b[0m \u001b[0mci\u001b[0m\u001b[1;33m,\u001b[0m \u001b[0mn_boot\u001b[0m\u001b[1;33m,\u001b[0m \u001b[0mseed\u001b[0m\u001b[1;33m)\u001b[0m\u001b[1;33m\u001b[0m\u001b[1;33m\u001b[0m\u001b[0m\n\u001b[0;32m   1588\u001b[0m \u001b[1;33m\u001b[0m\u001b[0m\n",
      "\u001b[1;32m~\\Miniconda3\\envs\\gpu-test\\lib\\site-packages\\seaborn\\categorical.py\u001b[0m in \u001b[0;36mestablish_colors\u001b[1;34m(self, color, palette, saturation)\u001b[0m\n\u001b[0;32m    317\u001b[0m         \u001b[1;31m# Determine the gray color to use for the lines framing the plot\u001b[0m\u001b[1;33m\u001b[0m\u001b[1;33m\u001b[0m\u001b[0m\n\u001b[0;32m    318\u001b[0m         \u001b[0mlight_vals\u001b[0m \u001b[1;33m=\u001b[0m \u001b[1;33m[\u001b[0m\u001b[0mcolorsys\u001b[0m\u001b[1;33m.\u001b[0m\u001b[0mrgb_to_hls\u001b[0m\u001b[1;33m(\u001b[0m\u001b[1;33m*\u001b[0m\u001b[0mc\u001b[0m\u001b[1;33m)\u001b[0m\u001b[1;33m[\u001b[0m\u001b[1;36m1\u001b[0m\u001b[1;33m]\u001b[0m \u001b[1;32mfor\u001b[0m \u001b[0mc\u001b[0m \u001b[1;32min\u001b[0m \u001b[0mrgb_colors\u001b[0m\u001b[1;33m]\u001b[0m\u001b[1;33m\u001b[0m\u001b[1;33m\u001b[0m\u001b[0m\n\u001b[1;32m--> 319\u001b[1;33m         \u001b[0mlum\u001b[0m \u001b[1;33m=\u001b[0m \u001b[0mmin\u001b[0m\u001b[1;33m(\u001b[0m\u001b[0mlight_vals\u001b[0m\u001b[1;33m)\u001b[0m \u001b[1;33m*\u001b[0m \u001b[1;36m.6\u001b[0m\u001b[1;33m\u001b[0m\u001b[1;33m\u001b[0m\u001b[0m\n\u001b[0m\u001b[0;32m    320\u001b[0m         \u001b[0mgray\u001b[0m \u001b[1;33m=\u001b[0m \u001b[0mmpl\u001b[0m\u001b[1;33m.\u001b[0m\u001b[0mcolors\u001b[0m\u001b[1;33m.\u001b[0m\u001b[0mrgb2hex\u001b[0m\u001b[1;33m(\u001b[0m\u001b[1;33m(\u001b[0m\u001b[0mlum\u001b[0m\u001b[1;33m,\u001b[0m \u001b[0mlum\u001b[0m\u001b[1;33m,\u001b[0m \u001b[0mlum\u001b[0m\u001b[1;33m)\u001b[0m\u001b[1;33m)\u001b[0m\u001b[1;33m\u001b[0m\u001b[1;33m\u001b[0m\u001b[0m\n\u001b[0;32m    321\u001b[0m \u001b[1;33m\u001b[0m\u001b[0m\n",
      "\u001b[1;31mValueError\u001b[0m: min() arg is an empty sequence"
     ]
    },
    {
     "data": {
      "image/png": "[encoded data removed]",
      "text/plain": [
       "<Figure size 1080x1080 with 1 Axes>"
      ]
     },
     "metadata": {},
     "output_type": "display_data"
    }
   ],
   "source": [
    "author_df = df[df['authors']==authors[2]]\n",
    "author_df = author_df[author_df['language_code']=='eng']\n",
    "plot_author_chart(author_df)"
   ]
  },
  {
   "cell_type": "markdown",
   "metadata": {},
   "source": [
    "Presumably a fan favourite for the current generation, Dan Brown seems to write fabulous thrillers with a knack for them to still retain the potential to be brilliant page-turners. \n",
    "\n",
    "Yet, from the data yet obtained, it can be observed that he has the least ratings amongst the four chosen authors, yet, he is consistent. "
   ]
  },
  {
   "cell_type": "markdown",
   "metadata": {},
   "source": [
    "#### J.K. Rowling <a id=\"12\"></a> <br>"
   ]
  },
  {
   "cell_type": "code",
   "execution_count": null,
   "metadata": {},
   "outputs": [],
   "source": [
    "author_df = df[df['authors']==authors[3]]\n",
    "author_df = author_df[author_df['language_code']=='eng']\n",
    "plot_author_chart(author_df)\n",
    "\n",
    "\n"
   ]
  },
  {
   "cell_type": "markdown",
   "metadata": {},
   "source": [
    "And finally, Harry Potter. The phenomenon for this era, the book which sold the most copies in the world. The series which has steadfastly garnered fans all over the world. \n",
    "\n",
    "A boy with a scar, a penchance for heroism. \n",
    "\n",
    "And the beauty shines, when observing the plot. All above four, brilliantly defying the rating trends which nearly all seem to follow. \n",
    "\n",
    "Perhaps a personal favourite for many of us, yet, we sure were rooting for this!"
   ]
  },
  {
   "cell_type": "markdown",
   "metadata": {},
   "source": [
    "### Which are the top 10 highly rated authors?<a id=\"13\"></a> <br>"
   ]
  },
  {
   "cell_type": "code",
   "execution_count": null,
   "metadata": {
    "_kg_hide-input": true
   },
   "outputs": [],
   "source": [
    "high_rated_author = df[df['average_rating']>=4.3]\n",
    "high_rated_author = high_rated_author.groupby('authors')['title'].count().reset_index().sort_values('title', ascending = False).head(10).set_index('authors')\n",
    "plt.figure(figsize=(15,10))\n",
    "ax = sns.barplot(high_rated_author['title'], high_rated_author.index, palette='Set2')\n",
    "ax.set_xlabel(\"Number of Books\")\n",
    "ax.set_ylabel(\"Authors\")\n",
    "for i in ax.patches:\n",
    "    ax.text(i.get_width()+.3, i.get_y()+0.5, str(round(i.get_width())), fontsize = 10, color = 'k')\n",
    "\n",
    "\n",
    "\n"
   ]
  },
  {
   "cell_type": "markdown",
   "metadata": {},
   "source": [
    "We can infer from the plot that J.R.R tolkien has the highest ratings for his books, making his average consistency rather impressive. \n",
    "\n",
    "It's also impressive to note the vast dominance Tolkien has over the competition, easily dethroning any other competiton while being above 4.3 in rating."
   ]
  },
  {
   "cell_type": "markdown",
   "metadata": {},
   "source": [
    "### What is the rating distribution for the books?<a id=\"14\"></a> <br>"
   ]
  },
  {
   "cell_type": "code",
   "execution_count": null,
   "metadata": {
    "_kg_hide-input": true
   },
   "outputs": [],
   "source": [
    "\n",
    "def segregation(data):\n",
    "    values = []\n",
    "    for val in data.average_rating:\n",
    "        if val>=0 and val<=1:\n",
    "            values.append(\"Between 0 and 1\")\n",
    "        elif val>1 and val<=2:\n",
    "            values.append(\"Between 1 and 2\")\n",
    "        elif val>2 and val<=3:\n",
    "            values.append(\"Between 2 and 3\")\n",
    "        elif val>3 and val<=4:\n",
    "            values.append(\"Between 3 and 4\")\n",
    "        elif val>4 and val<=5:\n",
    "            values.append(\"Between 4 and 5\")\n",
    "        else:\n",
    "            values.append(\"NaN\")\n",
    "    print(len(values))\n",
    "    return values"
   ]
  },
  {
   "cell_type": "code",
   "execution_count": null,
   "metadata": {
    "scrolled": false
   },
   "outputs": [],
   "source": [
    "df.average_rating.isnull().value_counts()"
   ]
  },
  {
   "cell_type": "code",
   "execution_count": null,
   "metadata": {},
   "outputs": [],
   "source": [
    "df.dropna(0, inplace=True)\n",
    "#Removing Any null values"
   ]
  },
  {
   "cell_type": "code",
   "execution_count": null,
   "metadata": {
    "scrolled": false
   },
   "outputs": [],
   "source": [
    "plt.figure(figsize=(10,10))\n",
    "rating= df.average_rating.astype(float)\n",
    "sns.distplot(rating, bins=20)\n",
    "\n"
   ]
  },
  {
   "cell_type": "markdown",
   "metadata": {},
   "source": [
    "From the given plot, we can infer that: \n",
    "\n",
    "- Majority of the ratings lie near 3.7-4.3, approximately.\n",
    "- Books having scores near 5 are extremely rare"
   ]
  },
  {
   "cell_type": "code",
   "execution_count": null,
   "metadata": {},
   "outputs": [],
   "source": [
    "df['Ratings_Dist'] = segregation(df)\n",
    "ratings_pie = df['Ratings_Dist'].value_counts().reset_index()\n",
    "labels = ratings_pie['index']\n",
    "colors = ['lightblue','darkmagenta','coral','bisque', 'black']\n",
    "percent = 100.*ratings_pie['Ratings_Dist']/ratings_pie['Ratings_Dist'].sum()\n",
    "fig, ax1 = plt.subplots()\n",
    "ax1.pie(ratings_pie['Ratings_Dist'],colors = colors, \n",
    "        pctdistance=0.85, startangle=90, explode=(0.05, 0.05, 0.05, 0.05, 0.05))\n",
    "#Draw a circle now:\n",
    "centre_circle = plt.Circle((0,0), 0.70, fc ='white')\n",
    "fig1 = plt.gcf()\n",
    "fig1.gca().add_artist(centre_circle)\n",
    "#Equal Aspect ratio ensures that pie is drawn as a circle\n",
    "plt.axis('equal')\n",
    "plt.tight_layout()\n",
    "labels = ['{0} - {1:1.2f} %'.format(i,j) for i,j in zip(labels, percent)]\n",
    "plt.legend( labels, loc = 'best',bbox_to_anchor=(-0.1, 1.),)\n",
    "\n"
   ]
  },
  {
   "cell_type": "markdown",
   "metadata": {},
   "source": [
    "Surprisingly, it can be seen that the ratings between 0 and 1 are much more numerous in number, leading to a conclusion that if a person does read a book and end up hating it, it'll still get a minimum of around 2 stars, just for the effort they put up for reading the book. \n",
    "\n",
    "The kurtosis of the graph just seems to land between 3 and 4, signifying that for the effort it took to read, and the thrilling, unputdownable nature of the book, the majority of the ratings lie between 3 and 4."
   ]
  },
  {
   "cell_type": "markdown",
   "metadata": {},
   "source": [
    "### Is there any relationship between ratings and review counts?<a id=\"15\"></a> <br>\n"
   ]
  },
  {
   "cell_type": "code",
   "execution_count": null,
   "metadata": {},
   "outputs": [],
   "source": [
    "#Checking for any relation between them.\n",
    "plt.figure(figsize=(15,10))\n",
    "df.dropna(0, inplace=True)\n",
    "sns.set_context('paper')\n",
    "ax =sns.jointplot(x=\"average_rating\",y='text_reviews_count', kind='scatter',  data= df[['text_reviews_count', 'average_rating']])\n",
    "ax.set_axis_labels(\"Average Rating\", \"Text Review Count\")\n",
    "plt.show()\n",
    "\n"
   ]
  },
  {
   "cell_type": "markdown",
   "metadata": {},
   "source": [
    "Analysis: We can infer from the plot that most of the ratings for the books seems to lie near 3-4, with a heavy amount of reviews lying barely near 5000, approximately. Let's plot that. "
   ]
  },
  {
   "cell_type": "code",
   "execution_count": null,
   "metadata": {
    "_kg_hide-input": true
   },
   "outputs": [],
   "source": [
    "trial = df[~(df['text_reviews_count']>5000)]"
   ]
  },
  {
   "cell_type": "code",
   "execution_count": null,
   "metadata": {
    "_kg_hide-input": true
   },
   "outputs": [],
   "source": [
    "#Checking for any relation between them.\n",
    "plt.figure(figsize=(15,10))\n",
    "df.dropna(0, inplace=True)\n",
    "sns.set_context('paper')\n",
    "ax =sns.jointplot(x=\"average_rating\",y='text_reviews_count', kind='scatter',  data= trial, color = 'green')\n",
    "ax.set_axis_labels(\"Average Rating\", \"Text Review Count\")\n",
    "plt.show()\n",
    "\n"
   ]
  },
  {
   "cell_type": "markdown",
   "metadata": {},
   "source": [
    "It can be observed that even now, the majority of text reviews for books still lie under 1000, making this whole scenario inconclusive. There might be a relationship, but the reviews seem to be predominant amongst books with decent ratings.\n",
    "\n",
    "Perhaps they are all scam reviews, or the density of the books in that field are just that _more_."
   ]
  },
  {
   "cell_type": "markdown",
   "metadata": {},
   "source": [
    "### Is there a relationship between number of pages and ratings?<a id=\"16\"></a> <br>"
   ]
  },
  {
   "cell_type": "code",
   "execution_count": null,
   "metadata": {
    "_kg_hide-input": true,
    "scrolled": false
   },
   "outputs": [],
   "source": [
    "plt.figure(figsize=(15,10))\n",
    "sns.set_context('paper')\n",
    "ax = sns.jointplot(x=\"average_rating\", y=\"# num_pages\", data = df, color = 'crimson')\n",
    "ax.set_axis_labels(\"Average Rating\", \"Number of Pages\")\n"
   ]
  },
  {
   "cell_type": "markdown",
   "metadata": {},
   "source": [
    "Analysis: This plot doesn't give that much of an accurate inference due to the massive presence of outliers for books above 1000 pages, for the _maximum_ density is between 0-1000 pages. \n",
    "\n",
    "Based on that logic, let's explore the scenario in that range: "
   ]
  },
  {
   "cell_type": "code",
   "execution_count": null,
   "metadata": {
    "_kg_hide-input": true
   },
   "outputs": [],
   "source": [
    "trial = df[~(df['# num_pages']>1000)]"
   ]
  },
  {
   "cell_type": "code",
   "execution_count": null,
   "metadata": {
    "_kg_hide-input": true
   },
   "outputs": [],
   "source": [
    "ax = sns.jointplot(x=\"average_rating\", y=\"# num_pages\", data = trial, color = 'darkcyan')\n",
    "ax.set_axis_labels(\"Average Rating\", \"Number of Pages\")\n"
   ]
  },
  {
   "cell_type": "markdown",
   "metadata": {},
   "source": [
    "Analysis: From the given plot, we can infer that the highest ratings ever given, usually are for books with the page range of **200-400**, peaking near 250. It could lead to the fact that most of the people seem to prefer books with a moderate amount of pages, and that thicker books seems to scare people away. "
   ]
  },
  {
   "cell_type": "markdown",
   "metadata": {},
   "source": [
    "## Is there a relationship between ratings and ratings count?<a id=\"17\"></a> <br>"
   ]
  },
  {
   "cell_type": "code",
   "execution_count": null,
   "metadata": {
    "_kg_hide-input": true
   },
   "outputs": [],
   "source": [
    "sns.set_context('paper')\n",
    "ax = sns.jointplot(x=\"average_rating\", y=\"ratings_count\", data = df, color = 'blueviolet')\n",
    "ax.set_axis_labels(\"Average Rating\", \"Ratings Count\")\n"
   ]
  },
  {
   "cell_type": "markdown",
   "metadata": {},
   "source": [
    "There seem to be some outliers present in this. For a better outlook, let's consider the count around 2000000 ratings"
   ]
  },
  {
   "cell_type": "code",
   "execution_count": null,
   "metadata": {},
   "outputs": [],
   "source": [
    "trial = df[~(df.ratings_count>2000000)]"
   ]
  },
  {
   "cell_type": "code",
   "execution_count": null,
   "metadata": {
    "_kg_hide-input": true
   },
   "outputs": [],
   "source": [
    "sns.set_context('paper')\n",
    "ax = sns.jointplot(x=\"average_rating\", y=\"ratings_count\", data = trial, color = 'brown')\n",
    "ax.set_axis_labels(\"Average Rating\", \"Ratings Count\")\n"
   ]
  },
  {
   "cell_type": "markdown",
   "metadata": {},
   "source": [
    "From the graph, we can see that there can be a potential relationship between the average rating and ratings count. As the number of ratings increase, the rating for the book seems to taper towards 4. The average rating seems to become sparse while the number keeps on decreasing."
   ]
  },
  {
   "cell_type": "markdown",
   "metadata": {},
   "source": [
    "### Which are the books with the highest reviews? <a id=\"18\"></a> <br>"
   ]
  },
  {
   "cell_type": "code",
   "execution_count": null,
   "metadata": {
    "_kg_hide-input": true
   },
   "outputs": [],
   "source": [
    "most_text = df.sort_values('text_reviews_count', ascending = False).head(10).set_index('title')\n",
    "plt.figure(figsize=(15,10))\n",
    "sns.set_context('poster')\n",
    "ax = sns.barplot(most_text['text_reviews_count'], most_text.index, palette='magma')\n",
    "for i in ax.patches:\n",
    "    ax.text(i.get_width()+2, i.get_y()+0.5,str(round(i.get_width())), fontsize=10,color='black')\n",
    "plt.show()\n",
    "\n",
    "\n"
   ]
  },
  {
   "cell_type": "markdown",
   "metadata": {},
   "source": [
    "From all the above inferences, we can fundamentally decide that although the reviews matter, there can't be any specific relation between them and the ranking for all the books"
   ]
  },
  {
   "cell_type": "markdown",
   "metadata": {},
   "source": [
    "# Topic Modelling <a id=\"19\"></a> <br>"
   ]
  },
  {
   "cell_type": "markdown",
   "metadata": {},
   "source": [
    "### KMeans Clustering without outliers <a id=\"20\"></a> <br>"
   ]
  },
  {
   "cell_type": "markdown",
   "metadata": {},
   "source": [
    "![](http://shabal.in/visuals/kmeans/random.gif)"
   ]
  },
  {
   "cell_type": "markdown",
   "metadata": {},
   "source": [
    "KMeans clustering is a type of unsupervised learning which groups unlabelled data. The goal is to find groups in data. \n",
    "\n",
    "With this, I attepmt to find a relationship or groups between the rating count and average rating value. "
   ]
  },
  {
   "cell_type": "code",
   "execution_count": null,
   "metadata": {},
   "outputs": [],
   "source": [
    "trial = df[['average_rating', 'ratings_count']]\n",
    "data = np.asarray([np.asarray(trial['average_rating']), np.asarray(trial['ratings_count'])]).T\n",
    "\n"
   ]
  },
  {
   "cell_type": "markdown",
   "metadata": {},
   "source": [
    "I'll use the Elbow Curve method for the best way of finding the number of clusters for the data"
   ]
  },
  {
   "cell_type": "code",
   "execution_count": null,
   "metadata": {},
   "outputs": [],
   "source": [
    "X = data\n",
    "distortions = []\n",
    "for k in range(2,30):\n",
    "    k_means = KMeans(n_clusters = k)\n",
    "    k_means.fit(X)\n",
    "    distortions.append(k_means.inertia_)\n",
    "\n",
    "fig = plt.figure(figsize=(15,10))\n",
    "plt.plot(range(2,30), distortions, 'bx-')\n",
    "plt.title(\"Elbow Curve\")"
   ]
  },
  {
   "cell_type": "markdown",
   "metadata": {},
   "source": [
    "From the above plot, we can see that the elbow lies around the value K=5, so that's what we will attempt it with"
   ]
  },
  {
   "cell_type": "code",
   "execution_count": null,
   "metadata": {},
   "outputs": [],
   "source": [
    "#Computing K means with K = 5, thus, taking it as 5 clusters\n",
    "centroids, _ = kmeans(data, 5)\n",
    "\n",
    "#assigning each sample to a cluster\n",
    "#Vector Quantisation:\n",
    "\n",
    "idx, _ = vq(data, centroids)"
   ]
  },
  {
   "cell_type": "code",
   "execution_count": null,
   "metadata": {
    "scrolled": false
   },
   "outputs": [],
   "source": [
    "# some plotting using numpy's logical indexing\n",
    "sns.set_context('paper')\n",
    "plt.figure(figsize=(15,10))\n",
    "plt.plot(data[idx==0,0],data[idx==0,1],'or',#red circles\n",
    "     data[idx==1,0],data[idx==1,1],'ob',#blue circles\n",
    "     data[idx==2,0],data[idx==2,1],'oy', #yellow circles\n",
    "     data[idx==3,0],data[idx==3,1],'om', #magenta circles\n",
    "     data[idx==4,0],data[idx==4,1],'ok',#black circles\n",
    "    \n",
    "     \n",
    "        \n",
    "        \n",
    "        \n",
    "        \n",
    "        )\n",
    "plt.plot(centroids[:,0],centroids[:,1],'sg',markersize=8, )\n",
    "\n",
    "\n",
    "\n",
    "\n",
    "circle1 = Line2D(range(1), range(1), color = 'red', linewidth = 0, marker= 'o', markerfacecolor='red')\n",
    "circle2 = Line2D(range(1), range(1), color = 'blue', linewidth = 0,marker= 'o', markerfacecolor='blue')\n",
    "circle3 = Line2D(range(1), range(1), color = 'yellow',linewidth=0,  marker= 'o', markerfacecolor='yellow')\n",
    "circle4 = Line2D(range(1), range(1), color = 'magenta', linewidth=0,marker= 'o', markerfacecolor='magenta')\n",
    "circle5 = Line2D(range(1), range(1), color = 'black', linewidth = 0,marker= 'o', markerfacecolor='black')\n",
    "\n",
    "plt.legend((circle1, circle2, circle3, circle4, circle5)\n",
    "           , ('Cluster 1','Cluster 2', 'Cluster 3', 'Cluster 4', 'Cluster 5'), numpoints = 1, loc = 0, )\n",
    "\n",
    "\n",
    "plt.show()"
   ]
  },
  {
   "cell_type": "markdown",
   "metadata": {},
   "source": [
    "We can see from the above plot, that because of two outliers, the whole clustering algortihm is skewed. Let's remove them and form inferences"
   ]
  },
  {
   "cell_type": "markdown",
   "metadata": {},
   "source": [
    "## KMeans with optimisation <a id=\"21\"></a> <br>"
   ]
  },
  {
   "cell_type": "markdown",
   "metadata": {},
   "source": [
    "Finding the outliers and then removing them."
   ]
  },
  {
   "cell_type": "code",
   "execution_count": null,
   "metadata": {},
   "outputs": [],
   "source": [
    "trial.idxmax()"
   ]
  },
  {
   "cell_type": "code",
   "execution_count": null,
   "metadata": {},
   "outputs": [],
   "source": [
    "trial.drop(3, inplace = True)\n",
    "trial.drop(41865, inplace = True)"
   ]
  },
  {
   "cell_type": "code",
   "execution_count": null,
   "metadata": {},
   "outputs": [],
   "source": [
    "data = np.asarray([np.asarray(trial['average_rating']), np.asarray(trial['ratings_count'])]).T\n",
    "\n",
    "\n"
   ]
  },
  {
   "cell_type": "code",
   "execution_count": null,
   "metadata": {
    "_kg_hide-input": true
   },
   "outputs": [],
   "source": [
    "#Computing K means with K = 8, thus, taking it as 8 clusters\n",
    "centroids, _ = kmeans(data, 5)\n",
    "\n",
    "#assigning each sample to a cluster\n",
    "#Vector Quantisation:\n",
    "\n",
    "idx, _ = vq(data, centroids)"
   ]
  },
  {
   "cell_type": "code",
   "execution_count": null,
   "metadata": {
    "_kg_hide-input": true,
    "scrolled": false
   },
   "outputs": [],
   "source": [
    "# some plotting using numpy's logical indexing\n",
    "sns.set_context('paper')\n",
    "plt.figure(figsize=(15,10))\n",
    "plt.plot(data[idx==0,0],data[idx==0,1],'or',#red circles\n",
    "     data[idx==1,0],data[idx==1,1],'ob',#blue circles\n",
    "     data[idx==2,0],data[idx==2,1],'oy', #yellow circles\n",
    "     data[idx==3,0],data[idx==3,1],'om', #magenta circles\n",
    "     data[idx==4,0],data[idx==4,1],'ok',#black circles\n",
    "    \n",
    "     \n",
    "        \n",
    "        \n",
    "        \n",
    "        \n",
    "        )\n",
    "plt.plot(centroids[:,0],centroids[:,1],'sg',markersize=8, )\n",
    "\n",
    "\n",
    "\n",
    "\n",
    "circle1 = Line2D(range(1), range(1), color = 'red', linewidth = 0, marker= 'o', markerfacecolor='red')\n",
    "circle2 = Line2D(range(1), range(1), color = 'blue', linewidth = 0,marker= 'o', markerfacecolor='blue')\n",
    "circle3 = Line2D(range(1), range(1), color = 'yellow',linewidth=0,  marker= 'o', markerfacecolor='yellow')\n",
    "circle4 = Line2D(range(1), range(1), color = 'magenta', linewidth=0,marker= 'o', markerfacecolor='magenta')\n",
    "circle5 = Line2D(range(1), range(1), color = 'black', linewidth = 0,marker= 'o', markerfacecolor='black')\n",
    "\n",
    "plt.legend((circle1, circle2, circle3, circle4, circle5)\n",
    "           , ('Cluster 1','Cluster 2', 'Cluster 3', 'Cluster 4', 'Cluster 5'), numpoints = 1, loc = 0, )\n",
    "\n",
    "\n",
    "plt.show()"
   ]
  },
  {
   "cell_type": "markdown",
   "metadata": {},
   "source": [
    "From the above plot, now we can see that once the whole system _can_ be classified into clusters. As the count increases, the rating would end up near the cluster given above. The green squares are the centroids for the given clusters. \n",
    "\n",
    "As the rating count seems to decrease, the average rating seems to become sparser, with higher volatility and less accuracy. "
   ]
  },
  {
   "cell_type": "markdown",
   "metadata": {},
   "source": [
    "## Recommendation Engine <a id=\"22\"></a> <br>\n"
   ]
  },
  {
   "cell_type": "markdown",
   "metadata": {},
   "source": [
    "Having seen the clustering, we can infer that there can be some recommendations which can happen with the relation between Average Rating and Ratings Count. \n",
    "\n",
    "Taking the Ratings_Distribution (A self created classifying trend), the recommendation system works with the algortihm of K Nearest Neighbors. \n",
    "\n",
    "Based on a book entered by the user, the nearest neighbours to it would be classified as the books which the user might like. \n",
    "\n",
    "KNN is used for both classification and regression problems. In classification problems to predict the label of a instance we first find k closest instances to the given one based on the distance metric and based on the majority voting scheme or weighted majority voting(neighbors which are closer are weighted higher) we predict the labels."
   ]
  },
  {
   "cell_type": "markdown",
   "metadata": {},
   "source": [
    "![](https://miro.medium.com/max/1400/1*j95msWf8y2B_cbQVMzxFWg.png)"
   ]
  },
  {
   "cell_type": "markdown",
   "metadata": {},
   "source": [
    "In a setting such as this, the unsupervised learning takes place, with the similar neighbors being recommended. For the given list, if I ask recommendations for \"The Catcher in the Rye\", five books related to it would appear. "
   ]
  },
  {
   "cell_type": "markdown",
   "metadata": {},
   "source": [
    "Creating a books features table, based on the Ratings Distribution, which classifies the books into ratings scale such as: \n",
    "- Between 0 and 1\n",
    "- Between 1 and 2\n",
    "- Between 2 and 3\n",
    "- Between 3 and 4\n",
    "- Between 4 and 5\n",
    "\n",
    "Broadly, the recommendations then consider the average ratings and ratings cout for the query entered."
   ]
  },
  {
   "cell_type": "code",
   "execution_count": null,
   "metadata": {},
   "outputs": [],
   "source": [
    "books_features = pd.concat([df['Ratings_Dist'].str.get_dummies(sep=\",\"), df['average_rating'], df['ratings_count']], axis=1)"
   ]
  },
  {
   "cell_type": "code",
   "execution_count": null,
   "metadata": {},
   "outputs": [],
   "source": [
    "books_features.head()"
   ]
  },
  {
   "cell_type": "markdown",
   "metadata": {},
   "source": [
    "The min-max scaler is used to reduce the bias which would have been present due to some books having a massive amount of features, yet the rest having less. Min-Max scaler would find the median for them all and equalize it. \n"
   ]
  },
  {
   "cell_type": "code",
   "execution_count": null,
   "metadata": {},
   "outputs": [],
   "source": [
    "min_max_scaler = MinMaxScaler()\n",
    "books_features = min_max_scaler.fit_transform(books_features)"
   ]
  },
  {
   "cell_type": "code",
   "execution_count": null,
   "metadata": {
    "_kg_hide-input": true,
    "_kg_hide-output": true
   },
   "outputs": [],
   "source": [
    "np.round(books_features, 2)"
   ]
  },
  {
   "cell_type": "code",
   "execution_count": null,
   "metadata": {
    "_kg_hide-input": true
   },
   "outputs": [],
   "source": [
    "model = neighbors.NearestNeighbors(n_neighbors=6, algorithm='ball_tree')\n",
    "model.fit(books_features)\n",
    "distance, indices = model.kneighbors(books_features)\n",
    "\n"
   ]
  },
  {
   "cell_type": "markdown",
   "metadata": {},
   "source": [
    "Creating specific functions to help in finding the book names: \n",
    "- Get index from Title\n",
    "- Get ID from partial name (Because not everyone can remember all the names) \n",
    "- Print the similar books from the feature dataset. \n",
    " *(This uses the Indices metric from the nearest neighbors to pick the books.)*"
   ]
  },
  {
   "cell_type": "code",
   "execution_count": null,
   "metadata": {
    "_kg_hide-input": true
   },
   "outputs": [],
   "source": [
    "def get_index_from_name(name):\n",
    "    return df[df[\"title\"]==name].index.tolist()[0]\n",
    "\n",
    "all_books_names = list(df.title.values)\n",
    "\n",
    "def get_id_from_partial_name(partial):\n",
    "    for name in all_books_names:\n",
    "        if partial in name:\n",
    "            print(name,all_books_names.index(name))\n",
    "            \n",
    "def print_similar_books(query=None,id=None):\n",
    "    if id:\n",
    "        for id in indices[id][1:]:\n",
    "            print(df.iloc[id][\"title\"])\n",
    "    if query:\n",
    "        found_id = get_index_from_name(query)\n",
    "        for id in indices[found_id][1:]:\n",
    "            print(df.iloc[id][\"title\"])"
   ]
  },
  {
   "cell_type": "markdown",
   "metadata": {},
   "source": [
    "Checking out the Workings of the System, let's try with following examples. \n",
    "\n",
    "- System by name: The Catcher in the Rye\n",
    "- System by Name: The Hobbit\n",
    "- System by partial name: Harry Potter (Book 5)\n"
   ]
  },
  {
   "cell_type": "markdown",
   "metadata": {},
   "source": [
    "#### The Catcher in the Rye:"
   ]
  },
  {
   "cell_type": "code",
   "execution_count": null,
   "metadata": {},
   "outputs": [],
   "source": [
    "print_similar_books(\"The Catcher in the Rye\")\n"
   ]
  },
  {
   "cell_type": "markdown",
   "metadata": {},
   "source": [
    "#### The Hobbit or There and Back Again:"
   ]
  },
  {
   "cell_type": "code",
   "execution_count": null,
   "metadata": {},
   "outputs": [],
   "source": [
    "print_similar_books(\"The Hobbit or There and Back Again\")"
   ]
  },
  {
   "cell_type": "markdown",
   "metadata": {},
   "source": [
    "#### Harry Potter Book 5:"
   ]
  },
  {
   "cell_type": "markdown",
   "metadata": {},
   "source": [
    "Since most users won't remember the name for the entire book (Especially how it has been entered in the books database), the function to get ID from the partial names helps to choose to ID of the book the user is looking for. "
   ]
  },
  {
   "cell_type": "code",
   "execution_count": null,
   "metadata": {},
   "outputs": [],
   "source": [
    "get_id_from_partial_name(\"Harry Potter and the \")"
   ]
  },
  {
   "cell_type": "code",
   "execution_count": null,
   "metadata": {},
   "outputs": [],
   "source": [
    "print_similar_books(id = 1) #ID for the Book 5"
   ]
  },
  {
   "cell_type": "markdown",
   "metadata": {},
   "source": [
    "## -x-"
   ]
  },
  {
   "cell_type": "markdown",
   "metadata": {},
   "source": [
    "**If you liked the kernel, do consider upvoting it! :)**"
   ]
  }
 ],
 "metadata": {
  "kernelspec": {
   "display_name": "gpu-test",
   "language": "python",
   "name": "gpu-test"
  },
  "language_info": {
   "codemirror_mode": {
    "name": "ipython",
    "version": 3
   },
   "file_extension": ".py",
   "mimetype": "text/x-python",
   "name": "python",
   "nbconvert_exporter": "python",
   "pygments_lexer": "ipython3",
   "version": "3.9.7"
  }
 },
 "nbformat": 4,
 "nbformat_minor": 1
}
